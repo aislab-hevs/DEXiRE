{
 "cells": [
  {
   "cell_type": "code",
   "execution_count": 52,
   "metadata": {},
   "outputs": [],
   "source": [
    "from sklearn.datasets import load_breast_cancer\n",
    "from sklearn.model_selection import train_test_split\n",
    "import numpy as np\n",
    "import pandas as pd\n",
    "import matplotlib.pyplot as plt\n",
    "import seaborn as sns\n",
    "import tensorflow as tf"
   ]
  },
  {
   "cell_type": "markdown",
   "metadata": {},
   "source": [
    "## Load and prepare dataset"
   ]
  },
  {
   "cell_type": "code",
   "execution_count": 53,
   "metadata": {},
   "outputs": [],
   "source": [
    "X, y = load_breast_cancer(return_X_y=True)"
   ]
  },
  {
   "cell_type": "code",
   "execution_count": 54,
   "metadata": {},
   "outputs": [],
   "source": [
    "X_train, X_test, y_train, y_test = train_test_split(X, y, test_size=0.20, random_state=42)\n",
    "X_train, X_val, y_train, y_val = train_test_split(X_train,y_train, test_size=0.20, random_state=42)"
   ]
  },
  {
   "cell_type": "code",
   "execution_count": 55,
   "metadata": {},
   "outputs": [
    {
     "name": "stdout",
     "output_type": "stream",
     "text": [
      "Target labels: [0 1]\n"
     ]
    }
   ],
   "source": [
    "target_labels = np.unique(y_train)\n",
    "print(f\"Target labels: {target_labels}\")"
   ]
  },
  {
   "cell_type": "markdown",
   "metadata": {},
   "source": [
    "## Create and train ML model "
   ]
  },
  {
   "cell_type": "code",
   "execution_count": 56,
   "metadata": {},
   "outputs": [],
   "source": [
    "model = tf.keras.Sequential([tf.keras.layers.Dense(16, activation='relu', \n",
    "                                                   input_shape=(X_train.shape[1],)),\n",
    "                             tf.keras.layers.Dense(8, activation='relu'),\n",
    "                             tf.keras.layers.Dense(1, activation='sigmoid')])"
   ]
  },
  {
   "cell_type": "code",
   "execution_count": 57,
   "metadata": {},
   "outputs": [],
   "source": [
    "model.compile(optimizer='adam', loss='binary_crossentropy', metrics=['accuracy'])"
   ]
  },
  {
   "cell_type": "code",
   "execution_count": 58,
   "metadata": {},
   "outputs": [
    {
     "name": "stdout",
     "output_type": "stream",
     "text": [
      "Epoch 1/50\n",
      "12/12 [==============================] - 1s 15ms/step - loss: 145.9251 - accuracy: 0.6346 - val_loss: 139.5890 - val_accuracy: 0.6044\n",
      "Epoch 2/50\n",
      "12/12 [==============================] - 0s 4ms/step - loss: 110.0845 - accuracy: 0.6346 - val_loss: 102.4751 - val_accuracy: 0.6044\n",
      "Epoch 3/50\n",
      "12/12 [==============================] - 0s 5ms/step - loss: 78.8770 - accuracy: 0.6346 - val_loss: 67.1764 - val_accuracy: 0.6044\n",
      "Epoch 4/50\n",
      "12/12 [==============================] - 0s 4ms/step - loss: 52.0362 - accuracy: 0.6346 - val_loss: 42.8817 - val_accuracy: 0.6044\n",
      "Epoch 5/50\n",
      "12/12 [==============================] - 0s 5ms/step - loss: 30.6606 - accuracy: 0.6291 - val_loss: 18.3093 - val_accuracy: 0.4505\n",
      "Epoch 6/50\n",
      "12/12 [==============================] - 0s 5ms/step - loss: 15.5861 - accuracy: 0.1841 - val_loss: 10.9251 - val_accuracy: 0.1868\n",
      "Epoch 7/50\n",
      "12/12 [==============================] - 0s 5ms/step - loss: 12.6708 - accuracy: 0.1758 - val_loss: 9.5047 - val_accuracy: 0.1429\n",
      "Epoch 8/50\n",
      "12/12 [==============================] - 0s 4ms/step - loss: 10.4532 - accuracy: 0.1291 - val_loss: 8.0294 - val_accuracy: 0.1319\n",
      "Epoch 9/50\n",
      "12/12 [==============================] - 0s 5ms/step - loss: 9.1568 - accuracy: 0.1813 - val_loss: 6.7645 - val_accuracy: 0.1319\n",
      "Epoch 10/50\n",
      "12/12 [==============================] - 0s 5ms/step - loss: 7.7061 - accuracy: 0.1511 - val_loss: 5.4531 - val_accuracy: 0.1868\n",
      "Epoch 11/50\n",
      "12/12 [==============================] - 0s 4ms/step - loss: 6.4302 - accuracy: 0.2115 - val_loss: 4.6279 - val_accuracy: 0.3077\n",
      "Epoch 12/50\n",
      "12/12 [==============================] - 0s 5ms/step - loss: 5.4191 - accuracy: 0.2692 - val_loss: 3.3222 - val_accuracy: 0.2747\n",
      "Epoch 13/50\n",
      "12/12 [==============================] - 0s 5ms/step - loss: 4.1747 - accuracy: 0.3104 - val_loss: 2.5442 - val_accuracy: 0.4176\n",
      "Epoch 14/50\n",
      "12/12 [==============================] - 0s 5ms/step - loss: 3.2358 - accuracy: 0.4231 - val_loss: 1.8623 - val_accuracy: 0.4505\n",
      "Epoch 15/50\n",
      "12/12 [==============================] - 0s 5ms/step - loss: 2.5361 - accuracy: 0.4725 - val_loss: 1.4306 - val_accuracy: 0.7143\n",
      "Epoch 16/50\n",
      "12/12 [==============================] - 0s 4ms/step - loss: 1.9561 - accuracy: 0.5495 - val_loss: 1.1222 - val_accuracy: 0.7692\n",
      "Epoch 17/50\n",
      "12/12 [==============================] - 0s 4ms/step - loss: 1.5306 - accuracy: 0.6181 - val_loss: 0.8804 - val_accuracy: 0.7802\n",
      "Epoch 18/50\n",
      "12/12 [==============================] - 0s 4ms/step - loss: 1.2532 - accuracy: 0.7005 - val_loss: 0.7344 - val_accuracy: 0.8022\n",
      "Epoch 19/50\n",
      "12/12 [==============================] - 0s 4ms/step - loss: 1.0517 - accuracy: 0.6868 - val_loss: 0.6570 - val_accuracy: 0.8022\n",
      "Epoch 20/50\n",
      "12/12 [==============================] - 0s 4ms/step - loss: 0.8896 - accuracy: 0.7610 - val_loss: 0.5675 - val_accuracy: 0.8242\n",
      "Epoch 21/50\n",
      "12/12 [==============================] - 0s 4ms/step - loss: 0.8564 - accuracy: 0.7445 - val_loss: 0.6096 - val_accuracy: 0.8352\n",
      "Epoch 22/50\n",
      "12/12 [==============================] - 0s 5ms/step - loss: 0.7302 - accuracy: 0.8022 - val_loss: 0.4691 - val_accuracy: 0.8242\n",
      "Epoch 23/50\n",
      "12/12 [==============================] - 0s 5ms/step - loss: 0.6851 - accuracy: 0.7967 - val_loss: 0.4782 - val_accuracy: 0.8571\n",
      "Epoch 24/50\n",
      "12/12 [==============================] - 0s 15ms/step - loss: 0.6464 - accuracy: 0.8187 - val_loss: 0.4141 - val_accuracy: 0.8462\n",
      "Epoch 25/50\n",
      "12/12 [==============================] - 0s 12ms/step - loss: 0.6268 - accuracy: 0.8077 - val_loss: 0.4394 - val_accuracy: 0.8571\n",
      "Epoch 26/50\n",
      "12/12 [==============================] - 0s 5ms/step - loss: 0.5854 - accuracy: 0.8324 - val_loss: 0.3588 - val_accuracy: 0.8571\n",
      "Epoch 27/50\n",
      "12/12 [==============================] - 0s 7ms/step - loss: 0.5815 - accuracy: 0.8324 - val_loss: 0.3551 - val_accuracy: 0.8571\n",
      "Epoch 28/50\n",
      "12/12 [==============================] - 0s 7ms/step - loss: 0.5539 - accuracy: 0.8242 - val_loss: 0.3515 - val_accuracy: 0.8681\n",
      "Epoch 29/50\n",
      "12/12 [==============================] - 0s 4ms/step - loss: 0.5630 - accuracy: 0.8379 - val_loss: 0.3041 - val_accuracy: 0.8681\n",
      "Epoch 30/50\n",
      "12/12 [==============================] - 0s 5ms/step - loss: 0.5152 - accuracy: 0.8571 - val_loss: 0.2901 - val_accuracy: 0.8681\n",
      "Epoch 31/50\n",
      "12/12 [==============================] - 0s 5ms/step - loss: 0.4945 - accuracy: 0.8352 - val_loss: 0.2886 - val_accuracy: 0.8791\n",
      "Epoch 32/50\n",
      "12/12 [==============================] - 0s 4ms/step - loss: 0.4812 - accuracy: 0.8516 - val_loss: 0.2860 - val_accuracy: 0.8791\n",
      "Epoch 33/50\n",
      "12/12 [==============================] - 0s 5ms/step - loss: 0.4814 - accuracy: 0.8269 - val_loss: 0.3125 - val_accuracy: 0.8681\n",
      "Epoch 34/50\n",
      "12/12 [==============================] - 0s 4ms/step - loss: 0.4573 - accuracy: 0.8516 - val_loss: 0.2650 - val_accuracy: 0.8791\n",
      "Epoch 35/50\n",
      "12/12 [==============================] - 0s 5ms/step - loss: 0.4336 - accuracy: 0.8571 - val_loss: 0.2401 - val_accuracy: 0.8791\n",
      "Epoch 36/50\n",
      "12/12 [==============================] - 0s 5ms/step - loss: 0.4057 - accuracy: 0.8764 - val_loss: 0.2343 - val_accuracy: 0.8791\n",
      "Epoch 37/50\n",
      "12/12 [==============================] - 0s 5ms/step - loss: 0.4044 - accuracy: 0.8571 - val_loss: 0.2289 - val_accuracy: 0.9011\n",
      "Epoch 38/50\n",
      "12/12 [==============================] - 0s 5ms/step - loss: 0.3859 - accuracy: 0.8764 - val_loss: 0.2230 - val_accuracy: 0.8791\n",
      "Epoch 39/50\n",
      "12/12 [==============================] - 0s 4ms/step - loss: 0.3762 - accuracy: 0.8681 - val_loss: 0.2162 - val_accuracy: 0.9011\n",
      "Epoch 40/50\n",
      "12/12 [==============================] - 0s 4ms/step - loss: 0.3661 - accuracy: 0.8736 - val_loss: 0.2116 - val_accuracy: 0.9011\n",
      "Epoch 41/50\n",
      "12/12 [==============================] - 0s 4ms/step - loss: 0.3541 - accuracy: 0.8791 - val_loss: 0.2072 - val_accuracy: 0.9011\n",
      "Epoch 42/50\n",
      "12/12 [==============================] - 0s 4ms/step - loss: 0.3450 - accuracy: 0.8846 - val_loss: 0.2030 - val_accuracy: 0.9121\n",
      "Epoch 43/50\n",
      "12/12 [==============================] - 0s 5ms/step - loss: 0.3374 - accuracy: 0.8819 - val_loss: 0.1997 - val_accuracy: 0.9121\n",
      "Epoch 44/50\n",
      "12/12 [==============================] - 0s 6ms/step - loss: 0.3314 - accuracy: 0.8846 - val_loss: 0.1979 - val_accuracy: 0.9011\n",
      "Epoch 45/50\n",
      "12/12 [==============================] - 0s 5ms/step - loss: 0.3245 - accuracy: 0.8874 - val_loss: 0.1944 - val_accuracy: 0.8901\n",
      "Epoch 46/50\n",
      "12/12 [==============================] - 0s 5ms/step - loss: 0.3409 - accuracy: 0.8764 - val_loss: 0.2056 - val_accuracy: 0.9011\n",
      "Epoch 47/50\n",
      "12/12 [==============================] - 0s 5ms/step - loss: 0.3093 - accuracy: 0.8956 - val_loss: 0.2060 - val_accuracy: 0.9011\n",
      "Epoch 48/50\n",
      "12/12 [==============================] - 0s 5ms/step - loss: 0.3303 - accuracy: 0.9066 - val_loss: 0.2094 - val_accuracy: 0.9011\n",
      "Epoch 49/50\n",
      "12/12 [==============================] - 0s 5ms/step - loss: 0.3035 - accuracy: 0.8874 - val_loss: 0.1857 - val_accuracy: 0.9011\n",
      "Epoch 50/50\n",
      "12/12 [==============================] - 0s 5ms/step - loss: 0.3116 - accuracy: 0.8874 - val_loss: 0.2211 - val_accuracy: 0.9011\n"
     ]
    }
   ],
   "source": [
    "# train the model \n",
    "history = model.fit(X_train, \n",
    "                    y_train, \n",
    "                    epochs=50, \n",
    "                    validation_data=(X_val, y_val), \n",
    "                    batch_size=32)"
   ]
  },
  {
   "cell_type": "markdown",
   "metadata": {},
   "source": [
    "## Model evaluation "
   ]
  },
  {
   "cell_type": "code",
   "execution_count": 59,
   "metadata": {},
   "outputs": [],
   "source": [
    "from sklearn.metrics import confusion_matrix, classification_report, precision_recall_curve, roc_curve, ConfusionMatrixDisplay"
   ]
  },
  {
   "cell_type": "code",
   "execution_count": 60,
   "metadata": {},
   "outputs": [
    {
     "name": "stdout",
     "output_type": "stream",
     "text": [
      "4/4 [==============================] - 0s 2ms/step\n"
     ]
    }
   ],
   "source": [
    "y_pred = model.predict(X_test)\n",
    "y_pred = np.rint(y_pred)"
   ]
  },
  {
   "cell_type": "code",
   "execution_count": 61,
   "metadata": {},
   "outputs": [
    {
     "name": "stdout",
     "output_type": "stream",
     "text": [
      "              precision    recall  f1-score   support\n",
      "\n",
      "           0       0.89      0.93      0.91        43\n",
      "           1       0.96      0.93      0.94        71\n",
      "\n",
      "    accuracy                           0.93       114\n",
      "   macro avg       0.92      0.93      0.93       114\n",
      "weighted avg       0.93      0.93      0.93       114\n",
      "\n"
     ]
    }
   ],
   "source": [
    "print(classification_report(y_test, y_pred))"
   ]
  },
  {
   "cell_type": "code",
   "execution_count": 62,
   "metadata": {},
   "outputs": [
    {
     "data": {
      "text/plain": [
       "<sklearn.metrics._plot.confusion_matrix.ConfusionMatrixDisplay at 0x7fc7687d0160>"
      ]
     },
     "execution_count": 62,
     "metadata": {},
     "output_type": "execute_result"
    },
    {
     "data": {
      "image/png": "[encoded data removed]",
      "text/plain": [
       "<Figure size 640x480 with 2 Axes>"
      ]
     },
     "metadata": {},
     "output_type": "display_data"
    }
   ],
   "source": [
    "cm = confusion_matrix(y_test, y_pred)\n",
    "disp = ConfusionMatrixDisplay(confusion_matrix=cm, display_labels=target_labels)\n",
    "disp.plot()"
   ]
  },
  {
   "cell_type": "markdown",
   "metadata": {},
   "source": [
    "## Rule extraction "
   ]
  },
  {
   "cell_type": "code",
   "execution_count": 63,
   "metadata": {},
   "outputs": [],
   "source": [
    "import os\n",
    "import sys\n",
    "sys.path.insert(0, os.path.abspath('..'))"
   ]
  },
  {
   "cell_type": "code",
   "execution_count": 64,
   "metadata": {},
   "outputs": [
    {
     "name": "stdout",
     "output_type": "stream",
     "text": [
      "The autoreload extension is already loaded. To reload it, use:\n",
      "  %reload_ext autoreload\n"
     ]
    }
   ],
   "source": [
    "%load_ext autoreload\n",
    "%autoreload 2\n",
    "from dexire.dexire import DEXiRE"
   ]
  },
  {
   "cell_type": "code",
   "execution_count": 69,
   "metadata": {},
   "outputs": [],
   "source": [
    "dexire = DEXiRE(model=model, class_names=['malignant', 'benign'])"
   ]
  },
  {
   "cell_type": "code",
   "execution_count": 70,
   "metadata": {},
   "outputs": [
    {
     "name": "stdout",
     "output_type": "stream",
     "text": [
      "12/12 [==============================] - 0s 2ms/step\n",
      "Unique predictions: [0. 1.]\n",
      "12/12 [==============================] - 0s 2ms/step\n",
      "Features: [ 5  7  3 -2 -2 -2 -2],      len: 7,        named_features_len: 8\n",
      "5\n",
      "feature_5\n",
      "Symbolic expression: feature_5 <= 0.5\n",
      "7\n",
      "feature_7\n",
      "Symbolic expression: feature_7 <= 0.5\n",
      "3\n",
      "feature_3\n",
      "Symbolic expression: feature_3 <= 0.5\n",
      "Symbolic expression: feature_3 > 0.5\n",
      "Symbolic expression: feature_7 > 0.5\n",
      "Symbolic expression: feature_5 > 0.5\n",
      "Features: [ 3 23 -2 -2 -2],      len: 5,        named_features_len: 30\n",
      "3\n",
      "X_3\n",
      "Symbolic expression: X_3 <= 644.5\n",
      "23\n",
      "X_23\n",
      "Symbolic expression: X_23 <= 855.4\n",
      "Symbolic expression: X_23 > 855.4\n",
      "Symbolic expression: X_3 > 644.5\n"
     ]
    }
   ],
   "source": [
    "# test extract at last layer level\n",
    "rules_2 = dexire.extract_rules_at_layer(X_train,\n",
    "                                        y_train)"
   ]
  },
  {
   "cell_type": "code",
   "execution_count": 71,
   "metadata": {},
   "outputs": [
    {
     "data": {
      "text/plain": [
       "[IF ((X_3 <= 644.5) AND (X_23 <= 855.4)) THEN malignant, IF ((X_3 > 644.5)) THEN benign, IF ((X_3 <= 644.5) AND (X_23 > 855.4)) THEN benign]"
      ]
     },
     "execution_count": 71,
     "metadata": {},
     "output_type": "execute_result"
    }
   ],
   "source": [
    "rules_2"
   ]
  },
  {
   "cell_type": "code",
   "execution_count": 72,
   "metadata": {},
   "outputs": [
    {
     "name": "stdout",
     "output_type": "stream",
     "text": [
      "Unique predictions: [0. 1.]\n",
      "12/12 [==============================] - 0s 1ms/step\n",
      "Features: [ 4  5  3 14 -2 -2 -2 -2 12 -2 14 -2  3 -2 -2],      len: 15,        named_features_len: 16\n",
      "4\n",
      "feature_4\n",
      "Symbolic expression: feature_4 <= 0.5\n",
      "5\n",
      "feature_5\n",
      "Symbolic expression: feature_5 <= 0.5\n",
      "3\n",
      "feature_3\n",
      "Symbolic expression: feature_3 <= 0.5\n",
      "14\n",
      "feature_14\n",
      "Symbolic expression: feature_14 <= 0.5\n",
      "Symbolic expression: feature_14 > 0.5\n",
      "Symbolic expression: feature_3 > 0.5\n",
      "Symbolic expression: feature_5 > 0.5\n",
      "Symbolic expression: feature_4 > 0.5\n",
      "12\n",
      "feature_12\n",
      "Symbolic expression: feature_12 <= 0.5\n",
      "Symbolic expression: feature_12 > 0.5\n",
      "14\n",
      "feature_14\n",
      "Symbolic expression: feature_14 <= 0.5\n",
      "Symbolic expression: feature_14 > 0.5\n",
      "3\n",
      "feature_3\n",
      "Symbolic expression: feature_3 <= 0.5\n",
      "Symbolic expression: feature_3 > 0.5\n",
      "Features: [ 2  3 -2 -2 23 -2 -2],      len: 7,        named_features_len: 30\n",
      "2\n",
      "X_2\n",
      "Symbolic expression: X_2 <= 96.55\n",
      "3\n",
      "X_3\n",
      "Symbolic expression: X_3 <= 640.95\n",
      "Symbolic expression: X_3 > 640.95\n",
      "Symbolic expression: X_2 > 96.55\n",
      "23\n",
      "X_23\n",
      "Symbolic expression: X_23 <= 785.4\n",
      "Symbolic expression: X_23 > 785.4\n",
      "Unique predictions: [0. 1.]\n",
      "12/12 [==============================] - 0s 2ms/step\n",
      "Features: [ 5  7  3 -2 -2 -2 -2],      len: 7,        named_features_len: 8\n",
      "5\n",
      "feature_5\n",
      "Symbolic expression: feature_5 <= 0.5\n",
      "7\n",
      "feature_7\n",
      "Symbolic expression: feature_7 <= 0.5\n",
      "3\n",
      "feature_3\n",
      "Symbolic expression: feature_3 <= 0.5\n",
      "Symbolic expression: feature_3 > 0.5\n",
      "Symbolic expression: feature_7 > 0.5\n",
      "Symbolic expression: feature_5 > 0.5\n",
      "Features: [ 3 23 -2 -2 -2],      len: 5,        named_features_len: 30\n",
      "3\n",
      "X_3\n",
      "Symbolic expression: X_3 <= 644.5\n",
      "23\n",
      "X_23\n",
      "Symbolic expression: X_23 <= 855.4\n",
      "Symbolic expression: X_23 > 855.4\n",
      "Symbolic expression: X_3 > 644.5\n",
      "total rules: [IF ((X_2 <= 96.55) AND (X_3 <= 640.95)) THEN malignant, IF ((X_2 > 96.55) AND (X_23 > 785.4)) THEN benign, IF ((X_2 <= 96.55) AND (X_3 > 640.95)) THEN malignant, IF ((X_2 > 96.55) AND (X_23 <= 785.4)) THEN malignant, IF ((X_3 <= 644.5) AND (X_23 <= 855.4)) THEN malignant, IF ((X_3 > 644.5)) THEN benign, IF ((X_3 <= 644.5) AND (X_23 > 855.4)) THEN benign]\n"
     ]
    }
   ],
   "source": [
    "rules = dexire.extract_rules(X_train, y_train)"
   ]
  }
 ],
 "metadata": {
  "kernelspec": {
   "display_name": "tensorflow_2_15",
   "language": "python",
   "name": "python3"
  },
  "language_info": {
   "codemirror_mode": {
    "name": "ipython",
    "version": 3
   },
   "file_extension": ".py",
   "mimetype": "text/x-python",
   "name": "python",
   "nbconvert_exporter": "python",
   "pygments_lexer": "ipython3",
   "version": "3.9.19"
  }
 },
 "nbformat": 4,
 "nbformat_minor": 2
}
