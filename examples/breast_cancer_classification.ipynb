{
 "cells": [
  {
   "cell_type": "code",
   "execution_count": 8,
   "metadata": {},
   "outputs": [],
   "source": [
    "from sklearn.datasets import load_breast_cancer\n",
    "from sklearn.model_selection import train_test_split\n",
    "import numpy as np\n",
    "import pandas as pd\n",
    "import matplotlib.pyplot as plt\n",
    "import seaborn as sns\n",
    "import tensorflow as tf"
   ]
  },
  {
   "cell_type": "markdown",
   "metadata": {},
   "source": [
    "## Load and prepare dataset"
   ]
  },
  {
   "cell_type": "code",
   "execution_count": 3,
   "metadata": {},
   "outputs": [],
   "source": [
    "X, y = load_breast_cancer(return_X_y=True)"
   ]
  },
  {
   "cell_type": "code",
   "execution_count": 7,
   "metadata": {},
   "outputs": [],
   "source": [
    "X_train, X_test, y_train, y_test = train_test_split(X, y, test_size=0.20, random_state=42)\n",
    "X_train, X_val, y_train, y_val = train_test_split(X_train,y_train, test_size=0.20, random_state=42)"
   ]
  },
  {
   "cell_type": "code",
   "execution_count": 9,
   "metadata": {},
   "outputs": [
    {
     "name": "stdout",
     "output_type": "stream",
     "text": [
      "Target labels: [0 1]\n"
     ]
    }
   ],
   "source": [
    "target_labels = np.unique(y_train)\n",
    "print(f\"Target labels: {target_labels}\")"
   ]
  },
  {
   "cell_type": "markdown",
   "metadata": {},
   "source": [
    "## Create and train ML model "
   ]
  },
  {
   "cell_type": "code",
   "execution_count": 15,
   "metadata": {},
   "outputs": [],
   "source": [
    "model = tf.keras.Sequential([tf.keras.layers.Dense(16, activation='relu', \n",
    "                                                   input_shape=(X_train.shape[1],)),\n",
    "                             tf.keras.layers.Dense(8, activation='relu'),\n",
    "                             tf.keras.layers.Dense(1, activation='sigmoid')])"
   ]
  },
  {
   "cell_type": "code",
   "execution_count": 16,
   "metadata": {},
   "outputs": [],
   "source": [
    "model.compile(optimizer='adam', loss='binary_crossentropy', metrics=['accuracy'])"
   ]
  },
  {
   "cell_type": "code",
   "execution_count": 18,
   "metadata": {},
   "outputs": [
    {
     "name": "stdout",
     "output_type": "stream",
     "text": [
      "Epoch 1/50\n",
      "12/12 [==============================] - 1s 18ms/step - loss: 68.8819 - accuracy: 0.6346 - val_loss: 35.4286 - val_accuracy: 0.6044\n",
      "Epoch 2/50\n",
      "12/12 [==============================] - 0s 6ms/step - loss: 12.6057 - accuracy: 0.5000 - val_loss: 11.8795 - val_accuracy: 0.3956\n",
      "Epoch 3/50\n",
      "12/12 [==============================] - 0s 5ms/step - loss: 7.2461 - accuracy: 0.4286 - val_loss: 4.6064 - val_accuracy: 0.6484\n",
      "Epoch 4/50\n",
      "12/12 [==============================] - 0s 4ms/step - loss: 2.9906 - accuracy: 0.6896 - val_loss: 2.1375 - val_accuracy: 0.5604\n",
      "Epoch 5/50\n",
      "12/12 [==============================] - 0s 5ms/step - loss: 1.7517 - accuracy: 0.6868 - val_loss: 1.9038 - val_accuracy: 0.7253\n",
      "Epoch 6/50\n",
      "12/12 [==============================] - 0s 6ms/step - loss: 1.4490 - accuracy: 0.7473 - val_loss: 1.6492 - val_accuracy: 0.7143\n",
      "Epoch 7/50\n",
      "12/12 [==============================] - 0s 8ms/step - loss: 1.3740 - accuracy: 0.7720 - val_loss: 1.6012 - val_accuracy: 0.7582\n",
      "Epoch 8/50\n",
      "12/12 [==============================] - 0s 6ms/step - loss: 1.2981 - accuracy: 0.7802 - val_loss: 1.4958 - val_accuracy: 0.7692\n",
      "Epoch 9/50\n",
      "12/12 [==============================] - 0s 5ms/step - loss: 1.2351 - accuracy: 0.7967 - val_loss: 1.3805 - val_accuracy: 0.7912\n",
      "Epoch 10/50\n",
      "12/12 [==============================] - 0s 4ms/step - loss: 1.1930 - accuracy: 0.7940 - val_loss: 1.3460 - val_accuracy: 0.8352\n",
      "Epoch 11/50\n",
      "12/12 [==============================] - 0s 5ms/step - loss: 1.1440 - accuracy: 0.7995 - val_loss: 1.2568 - val_accuracy: 0.8022\n",
      "Epoch 12/50\n",
      "12/12 [==============================] - 0s 6ms/step - loss: 1.1284 - accuracy: 0.8049 - val_loss: 1.3083 - val_accuracy: 0.8462\n",
      "Epoch 13/50\n",
      "12/12 [==============================] - 0s 5ms/step - loss: 1.0226 - accuracy: 0.8214 - val_loss: 1.1880 - val_accuracy: 0.7802\n",
      "Epoch 14/50\n",
      "12/12 [==============================] - 0s 5ms/step - loss: 1.0976 - accuracy: 0.7885 - val_loss: 1.3760 - val_accuracy: 0.8571\n",
      "Epoch 15/50\n",
      "12/12 [==============================] - 0s 5ms/step - loss: 1.0236 - accuracy: 0.8104 - val_loss: 1.0482 - val_accuracy: 0.8791\n",
      "Epoch 16/50\n",
      "12/12 [==============================] - 0s 5ms/step - loss: 0.9640 - accuracy: 0.8242 - val_loss: 1.0190 - val_accuracy: 0.8681\n",
      "Epoch 17/50\n",
      "12/12 [==============================] - 0s 4ms/step - loss: 1.0093 - accuracy: 0.7967 - val_loss: 1.1043 - val_accuracy: 0.8791\n",
      "Epoch 18/50\n",
      "12/12 [==============================] - 0s 5ms/step - loss: 0.9569 - accuracy: 0.8516 - val_loss: 1.0137 - val_accuracy: 0.8022\n",
      "Epoch 19/50\n",
      "12/12 [==============================] - 0s 5ms/step - loss: 0.9196 - accuracy: 0.8379 - val_loss: 0.8853 - val_accuracy: 0.8571\n",
      "Epoch 20/50\n",
      "12/12 [==============================] - 0s 4ms/step - loss: 0.8152 - accuracy: 0.8242 - val_loss: 1.1020 - val_accuracy: 0.8681\n",
      "Epoch 21/50\n",
      "12/12 [==============================] - 0s 5ms/step - loss: 0.8079 - accuracy: 0.8269 - val_loss: 0.8543 - val_accuracy: 0.8571\n",
      "Epoch 22/50\n",
      "12/12 [==============================] - 0s 5ms/step - loss: 0.7184 - accuracy: 0.8434 - val_loss: 0.7989 - val_accuracy: 0.8901\n",
      "Epoch 23/50\n",
      "12/12 [==============================] - 0s 5ms/step - loss: 0.7373 - accuracy: 0.8407 - val_loss: 1.0213 - val_accuracy: 0.8681\n",
      "Epoch 24/50\n",
      "12/12 [==============================] - 0s 6ms/step - loss: 0.7756 - accuracy: 0.8571 - val_loss: 0.7520 - val_accuracy: 0.8571\n",
      "Epoch 25/50\n",
      "12/12 [==============================] - 0s 4ms/step - loss: 0.6785 - accuracy: 0.8571 - val_loss: 0.7294 - val_accuracy: 0.8571\n",
      "Epoch 26/50\n",
      "12/12 [==============================] - 0s 4ms/step - loss: 0.6575 - accuracy: 0.8352 - val_loss: 0.7310 - val_accuracy: 0.8681\n",
      "Epoch 27/50\n",
      "12/12 [==============================] - 0s 4ms/step - loss: 0.6646 - accuracy: 0.8407 - val_loss: 0.6664 - val_accuracy: 0.8681\n",
      "Epoch 28/50\n",
      "12/12 [==============================] - 0s 6ms/step - loss: 0.6412 - accuracy: 0.8489 - val_loss: 0.8457 - val_accuracy: 0.7802\n",
      "Epoch 29/50\n",
      "12/12 [==============================] - 0s 4ms/step - loss: 0.7310 - accuracy: 0.8297 - val_loss: 0.6041 - val_accuracy: 0.8681\n",
      "Epoch 30/50\n",
      "12/12 [==============================] - 0s 5ms/step - loss: 0.5892 - accuracy: 0.8626 - val_loss: 0.5834 - val_accuracy: 0.8681\n",
      "Epoch 31/50\n",
      "12/12 [==============================] - 0s 5ms/step - loss: 0.5886 - accuracy: 0.8407 - val_loss: 0.5522 - val_accuracy: 0.8571\n",
      "Epoch 32/50\n",
      "12/12 [==============================] - 0s 4ms/step - loss: 0.5422 - accuracy: 0.8599 - val_loss: 0.5578 - val_accuracy: 0.8571\n",
      "Epoch 33/50\n",
      "12/12 [==============================] - 0s 7ms/step - loss: 0.5741 - accuracy: 0.8434 - val_loss: 0.6781 - val_accuracy: 0.8022\n",
      "Epoch 34/50\n",
      "12/12 [==============================] - 0s 5ms/step - loss: 0.6004 - accuracy: 0.8214 - val_loss: 0.5289 - val_accuracy: 0.8571\n",
      "Epoch 35/50\n",
      "12/12 [==============================] - 0s 5ms/step - loss: 0.5418 - accuracy: 0.8462 - val_loss: 0.5236 - val_accuracy: 0.8571\n",
      "Epoch 36/50\n",
      "12/12 [==============================] - 0s 8ms/step - loss: 0.5090 - accuracy: 0.8544 - val_loss: 0.4344 - val_accuracy: 0.9121\n",
      "Epoch 37/50\n",
      "12/12 [==============================] - 0s 5ms/step - loss: 0.5080 - accuracy: 0.8654 - val_loss: 0.4282 - val_accuracy: 0.9121\n",
      "Epoch 38/50\n",
      "12/12 [==============================] - 0s 5ms/step - loss: 0.4723 - accuracy: 0.8571 - val_loss: 0.4176 - val_accuracy: 0.9121\n",
      "Epoch 39/50\n",
      "12/12 [==============================] - 0s 6ms/step - loss: 0.4733 - accuracy: 0.8709 - val_loss: 0.4056 - val_accuracy: 0.9231\n",
      "Epoch 40/50\n",
      "12/12 [==============================] - 0s 5ms/step - loss: 0.4778 - accuracy: 0.8516 - val_loss: 0.3988 - val_accuracy: 0.9231\n",
      "Epoch 41/50\n",
      "12/12 [==============================] - 0s 6ms/step - loss: 0.4516 - accuracy: 0.8681 - val_loss: 0.3892 - val_accuracy: 0.9231\n",
      "Epoch 42/50\n",
      "12/12 [==============================] - 0s 5ms/step - loss: 0.4889 - accuracy: 0.8626 - val_loss: 0.4224 - val_accuracy: 0.9011\n",
      "Epoch 43/50\n",
      "12/12 [==============================] - 0s 5ms/step - loss: 0.5042 - accuracy: 0.8599 - val_loss: 0.4535 - val_accuracy: 0.9011\n",
      "Epoch 44/50\n",
      "12/12 [==============================] - 0s 5ms/step - loss: 0.5269 - accuracy: 0.8599 - val_loss: 0.3715 - val_accuracy: 0.9121\n",
      "Epoch 45/50\n",
      "12/12 [==============================] - 0s 6ms/step - loss: 0.4224 - accuracy: 0.8626 - val_loss: 0.3692 - val_accuracy: 0.9121\n",
      "Epoch 46/50\n",
      "12/12 [==============================] - 0s 5ms/step - loss: 0.4218 - accuracy: 0.8819 - val_loss: 0.3549 - val_accuracy: 0.9231\n",
      "Epoch 47/50\n",
      "12/12 [==============================] - 0s 5ms/step - loss: 0.4597 - accuracy: 0.8489 - val_loss: 0.3519 - val_accuracy: 0.9121\n",
      "Epoch 48/50\n",
      "12/12 [==============================] - 0s 5ms/step - loss: 0.4752 - accuracy: 0.8764 - val_loss: 0.3583 - val_accuracy: 0.9121\n",
      "Epoch 49/50\n",
      "12/12 [==============================] - 0s 3ms/step - loss: 0.4345 - accuracy: 0.8626 - val_loss: 0.3489 - val_accuracy: 0.9121\n",
      "Epoch 50/50\n",
      "12/12 [==============================] - 0s 4ms/step - loss: 0.3985 - accuracy: 0.8819 - val_loss: 0.3500 - val_accuracy: 0.9011\n"
     ]
    }
   ],
   "source": [
    "# train the model \n",
    "history = model.fit(X_train, \n",
    "                    y_train, \n",
    "                    epochs=50, \n",
    "                    validation_data=(X_val, y_val), \n",
    "                    batch_size=32)"
   ]
  },
  {
   "cell_type": "markdown",
   "metadata": {},
   "source": [
    "## Model evaluation "
   ]
  },
  {
   "cell_type": "code",
   "execution_count": 19,
   "metadata": {},
   "outputs": [],
   "source": [
    "from sklearn.metrics import confusion_matrix, classification_report, precision_recall_curve, roc_curve, ConfusionMatrixDisplay"
   ]
  },
  {
   "cell_type": "code",
   "execution_count": 23,
   "metadata": {},
   "outputs": [
    {
     "name": "stdout",
     "output_type": "stream",
     "text": [
      "4/4 [==============================] - 0s 2ms/step\n"
     ]
    }
   ],
   "source": [
    "y_pred = model.predict(X_test)\n",
    "y_pred = np.rint(y_pred)"
   ]
  },
  {
   "cell_type": "code",
   "execution_count": 25,
   "metadata": {},
   "outputs": [
    {
     "name": "stdout",
     "output_type": "stream",
     "text": [
      "              precision    recall  f1-score   support\n",
      "\n",
      "           0       0.85      0.95      0.90        43\n",
      "           1       0.97      0.90      0.93        71\n",
      "\n",
      "    accuracy                           0.92       114\n",
      "   macro avg       0.91      0.93      0.92       114\n",
      "weighted avg       0.93      0.92      0.92       114\n",
      "\n"
     ]
    }
   ],
   "source": [
    "print(classification_report(y_test, y_pred))"
   ]
  },
  {
   "cell_type": "code",
   "execution_count": 26,
   "metadata": {},
   "outputs": [],
   "source": [
    "cm = confusion_matrix(y_test, y_pred)\n",
    "disp = ConfusionMatrixDisplay(confusion_matrix=cm, display_labels=target_labels)"
   ]
  },
  {
   "cell_type": "code",
   "execution_count": 27,
   "metadata": {},
   "outputs": [
    {
     "data": {
      "text/plain": [
       "<sklearn.metrics._plot.confusion_matrix.ConfusionMatrixDisplay at 0x7f3aa01e3280>"
      ]
     },
     "execution_count": 27,
     "metadata": {},
     "output_type": "execute_result"
    },
    {
     "data": {
      "image/png": "[encoded data removed]",
      "text/plain": [
       "<Figure size 640x480 with 2 Axes>"
      ]
     },
     "metadata": {},
     "output_type": "display_data"
    }
   ],
   "source": [
    "disp.plot()"
   ]
  },
  {
   "cell_type": "markdown",
   "metadata": {},
   "source": [
    "## Rule extraction "
   ]
  },
  {
   "cell_type": "code",
   "execution_count": 36,
   "metadata": {},
   "outputs": [],
   "source": [
    "import os\n",
    "import sys\n",
    "sys.path.insert(0, os.path.abspath('..'))"
   ]
  },
  {
   "cell_type": "code",
   "execution_count": 37,
   "metadata": {},
   "outputs": [],
   "source": [
    "from dexire.dexire import DEXiRE"
   ]
  },
  {
   "cell_type": "code",
   "execution_count": 38,
   "metadata": {},
   "outputs": [],
   "source": [
    "dexire = DEXiRE(model=model, class_names=['malignant', 'benign'])"
   ]
  },
  {
   "cell_type": "code",
   "execution_count": 39,
   "metadata": {},
   "outputs": [
    {
     "name": "stdout",
     "output_type": "stream",
     "text": [
      "12/12 [==============================] - 0s 1ms/step\n",
      "Number of classes: [0. 1.]\n",
      "12/12 [==============================] - 0s 2ms/step\n",
      "6\n",
      "feature_6\n",
      "6\n",
      "feature_6\n",
      "1\n",
      "feature_1\n",
      "6\n",
      "feature_6\n",
      "1\n",
      "feature_1\n",
      "1\n",
      "feature_1\n",
      "2\n",
      "feature_2\n",
      "0\n",
      "feature_0\n",
      "1\n",
      "feature_1\n",
      "6\n",
      "feature_6\n",
      "6\n",
      "feature_6\n"
     ]
    }
   ],
   "source": [
    "rules = dexire.extract_rules(X_train, y_train)"
   ]
  }
 ],
 "metadata": {
  "kernelspec": {
   "display_name": "tensorflow_2_15",
   "language": "python",
   "name": "python3"
  },
  "language_info": {
   "codemirror_mode": {
    "name": "ipython",
    "version": 3
   },
   "file_extension": ".py",
   "mimetype": "text/x-python",
   "name": "python",
   "nbconvert_exporter": "python",
   "pygments_lexer": "ipython3",
   "version": "3.9.19"
  }
 },
 "nbformat": 4,
 "nbformat_minor": 2
}
